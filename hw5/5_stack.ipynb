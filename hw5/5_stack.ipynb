{
 "cells": [
  {
   "cell_type": "code",
   "execution_count": 3,
   "metadata": {
    "collapsed": true
   },
   "outputs": [],
   "source": [
    "import pandas as pd\n",
    "import numpy as np\n",
    "import matplotlib.pyplot as plt\n",
    "%matplotlib inline"
   ]
  },
  {
   "cell_type": "code",
   "execution_count": 29,
   "metadata": {
    "collapsed": true
   },
   "outputs": [],
   "source": [
    "from sklearn.neighbors import KNeighborsClassifier\n",
    "from sklearn.model_selection import KFold\n",
    "from sklearn.model_selection import train_test_split\n",
    "from sklearn import metrics"
   ]
  },
  {
   "cell_type": "code",
   "execution_count": 64,
   "metadata": {},
   "outputs": [
    {
     "data": {
      "text/html": [
       "<div>\n",
       "<style>\n",
       "    .dataframe thead tr:only-child th {\n",
       "        text-align: right;\n",
       "    }\n",
       "\n",
       "    .dataframe thead th {\n",
       "        text-align: left;\n",
       "    }\n",
       "\n",
       "    .dataframe tbody tr th {\n",
       "        vertical-align: top;\n",
       "    }\n",
       "</style>\n",
       "<table border=\"1\" class=\"dataframe\">\n",
       "  <thead>\n",
       "    <tr style=\"text-align: right;\">\n",
       "      <th></th>\n",
       "      <th>F1</th>\n",
       "      <th>F2</th>\n",
       "      <th>T</th>\n",
       "    </tr>\n",
       "  </thead>\n",
       "  <tbody>\n",
       "    <tr>\n",
       "      <th>0</th>\n",
       "      <td>3.48</td>\n",
       "      <td>6.06</td>\n",
       "      <td>1</td>\n",
       "    </tr>\n",
       "    <tr>\n",
       "      <th>1</th>\n",
       "      <td>-2.36</td>\n",
       "      <td>6.76</td>\n",
       "      <td>1</td>\n",
       "    </tr>\n",
       "    <tr>\n",
       "      <th>2</th>\n",
       "      <td>-1.49</td>\n",
       "      <td>6.67</td>\n",
       "      <td>1</td>\n",
       "    </tr>\n",
       "    <tr>\n",
       "      <th>3</th>\n",
       "      <td>4.35</td>\n",
       "      <td>5.11</td>\n",
       "      <td>1</td>\n",
       "    </tr>\n",
       "    <tr>\n",
       "      <th>4</th>\n",
       "      <td>4.09</td>\n",
       "      <td>5.29</td>\n",
       "      <td>1</td>\n",
       "    </tr>\n",
       "  </tbody>\n",
       "</table>\n",
       "</div>"
      ],
      "text/plain": [
       "     F1    F2  T\n",
       "0  3.48  6.06  1\n",
       "1 -2.36  6.76  1\n",
       "2 -1.49  6.67  1\n",
       "3  4.35  5.11  1\n",
       "4  4.09  5.29  1"
      ]
     },
     "execution_count": 64,
     "metadata": {},
     "output_type": "execute_result"
    }
   ],
   "source": [
    "df = pd.read_csv(\"dataset1.csv\", sep='\\t')\n",
    "df.head()"
   ]
  },
  {
   "cell_type": "code",
   "execution_count": 71,
   "metadata": {
    "collapsed": true
   },
   "outputs": [],
   "source": [
    "X = df[['F1','F2']].get_values()\n",
    "y = df['T'].get_values()\n",
    "X_train, X_test, y_train, y_test = train_test_split(X, y, test_size=0.5)"
   ]
  },
  {
   "cell_type": "code",
   "execution_count": 84,
   "metadata": {
    "collapsed": true
   },
   "outputs": [],
   "source": [
    "def stack_pred(estimator, X, y, Xt, k=3, method='predict'):\n",
    "    kf = KFold(n_splits=k, random_state=0)\n",
    "    sX = np.zeros(X.shape[0]) \n",
    "    mean_sX = np.zeros((k, (Xt.shape[0])))\n",
    "    index = 0\n",
    "    for i, j in kf.split(X):\n",
    "        X_train, X_test = X[i], X[j]\n",
    "        y_train, y_test = y[i], y[j]\n",
    "        estimator.fit(X_train,y_train)\n",
    "        pred = estimator.predict(X_test)\n",
    "        pred2 = estimator.predict(Xt)\n",
    "        sX[j] = pred\n",
    "        mean_sX[index] = pred2\n",
    "        index += 1\n",
    "        sXt = (mean_sX.mean(axis = 0) > 0.5).astype(int)\n",
    "    return sX, sXt"
   ]
  },
  {
   "cell_type": "code",
   "execution_count": 89,
   "metadata": {},
   "outputs": [
    {
     "name": "stdout",
     "output_type": "stream",
     "text": [
      "             precision    recall  f1-score   support\n",
      "\n",
      "          0      0.903     0.827     0.863       202\n",
      "          1      0.916     0.955     0.935       398\n",
      "\n",
      "avg / total      0.911     0.912     0.911       600\n",
      "              precision    recall  f1-score   support\n",
      "\n",
      "          0      0.907     0.826     0.865       201\n",
      "          1      0.916     0.957     0.936       399\n",
      "\n",
      "avg / total      0.913     0.913     0.912       600\n",
      "\n"
     ]
    }
   ],
   "source": [
    "Kneighb = KNeighborsClassifier()\n",
    "sX, sXt = stack_pred(estimator=Kneighb, X=X_train, y=y_train, Xt=X_test)\n",
    "print(metrics.classification_report(y_train, sX, digits=3), metrics.classification_report(y_test, sXt, digits=3))\n"
   ]
  }
 ],
 "metadata": {
  "kernelspec": {
   "display_name": "Python 3",
   "language": "python",
   "name": "python3"
  },
  "language_info": {
   "codemirror_mode": {
    "name": "ipython",
    "version": 3
   },
   "file_extension": ".py",
   "mimetype": "text/x-python",
   "name": "python",
   "nbconvert_exporter": "python",
   "pygments_lexer": "ipython3",
   "version": "3.6.1"
  }
 },
 "nbformat": 4,
 "nbformat_minor": 2
}
