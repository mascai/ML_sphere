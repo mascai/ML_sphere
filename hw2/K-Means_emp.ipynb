{
 "cells": [
  {
   "cell_type": "markdown",
   "metadata": {
    "toc": "true"
   },
   "source": [
    "# Table of Contents\n",
    " <p><div class=\"lev1 toc-item\"><a href=\"#Задание:\" data-toc-modified-id=\"Задание:-1\"><span class=\"toc-item-num\">1&nbsp;&nbsp;</span>Задание:</a></div><div class=\"lev3 toc-item\"><a href=\"#Проверить-работу-реализованного-алгоритма-с-различным-числом-кластеров:\" data-toc-modified-id=\"Проверить-работу-реализованного-алгоритма-с-различным-числом-кластеров:-101\"><span class=\"toc-item-num\">1.0.1&nbsp;&nbsp;</span>Проверить работу реализованного алгоритма с различным числом кластеров:</a></div><div class=\"lev3 toc-item\"><a href=\"#За-выполнение-ДЗ:\" data-toc-modified-id=\"За-выполнение-ДЗ:-102\"><span class=\"toc-item-num\">1.0.2&nbsp;&nbsp;</span>За выполнение ДЗ:</a></div>"
   ]
  },
  {
   "cell_type": "code",
   "execution_count": 59,
   "metadata": {},
   "outputs": [],
   "source": [
    "import numpy as np\n",
    "import random"
   ]
  },
  {
   "cell_type": "code",
   "execution_count": 60,
   "metadata": {
    "collapsed": true
   },
   "outputs": [],
   "source": [
    "import matplotlib.pyplot as plt\n",
    "%matplotlib inline"
   ]
  },
  {
   "cell_type": "markdown",
   "metadata": {},
   "source": [
    "# Задание:\n",
    "\n",
    "Реализовать алгоритм кластеризации k-means"
   ]
  },
  {
   "cell_type": "code",
   "execution_count": 91,
   "metadata": {},
   "outputs": [],
   "source": [
    "class KMeans:\n",
    "    def __init__(self, n_clusters=2, metric='euclidean', max_iter=300):\n",
    "        '''\n",
    "        n_clusters - число кластеров\n",
    "        metric - метрика\n",
    "        max_iter - максимальное число итераций\n",
    "        '''\n",
    "        self.n_clusters = n_clusters\n",
    "        self.metric = metric\n",
    "        self.max_iter = max_iter\n",
    "\n",
    "    @staticmethod\n",
    "    def distance(point, centroid):\n",
    "        '''\n",
    "        Определяем функцию расстояния\n",
    "        Вычислим вектор расстояний между вектором точек и вектором центров\n",
    "        '''\n",
    "        dis = []\n",
    "        for index in range(len(point)):\n",
    "            dis.append((float(point[index]) - float(centroid[index]))**2)\n",
    "\n",
    "        ''' Суммирую значения '''\n",
    "        num = 0\n",
    "        for point in dis:\n",
    "            num += point\n",
    "\n",
    "        return num # num = (A1 - A2)^2 + (B1 - B2)^2 + ...\n",
    "        \n",
    "        \n",
    "    \n",
    "    def predict(self, X):\n",
    "        '''\n",
    "        Предсказываем попадание объектов из X в конкретный кластер\n",
    "        '''\n",
    "        ans = [] # список номеров кластеров, куда попал i-тый элемент из X\n",
    "        for item in X:\n",
    "            claster_id = 0\n",
    "            min_dist = 1000000\n",
    "            for i in range(self.n_clusters):\n",
    "                if self.distance(item, self.centers[i]) < min_dist:\n",
    "                    min_dist = self.distance(item, self.centers[i])\n",
    "                    claster_id = i\n",
    "            ans.append(claster_id)\n",
    "        return ans\n",
    "    \n",
    "\n",
    "    def fit(self, X):  \n",
    "        '''\n",
    "        Шаг 1 - Инизиализируем начальные положения центров кластеров\n",
    "\n",
    "        '''\n",
    "        centroids = []\n",
    "        centroids_sz = [] # количество элементов в кластере\n",
    "        for i in range(self.n_clusters):\n",
    "            centroids.append(X[random.randint(0, len(X) - 1)])\n",
    "            centroids_sz.append(1)\n",
    "\n",
    "        '''\n",
    "        Шаг 2 - Выполняем уточнение положения центров кластеров до тех пор, пока \n",
    "        не будет превышено значение max_iter или центры кластеров не будут меняться \n",
    "        '''\n",
    "        dist_to_centr = [] # расстояние точки до каждого центра \n",
    "        for step in range(self.max_iter):            \n",
    "            '''\n",
    "            Шаг 2.1 - Вычисляем расстояние до цетров кластеров\n",
    "            Шаг 2.2 - Для каждого объекта находим argmin от расстояний до центров \n",
    "            '''\n",
    "            \n",
    "            for item in range(len(X)):\n",
    "                argmin_id = 0\n",
    "                argmin = 1000000\n",
    "                for i in range(self.n_clusters):\n",
    "                    if self.distance(X[item], centroids[i]) < argmin:\n",
    "                        argmin_id = i\n",
    "                        argmin = self.distance(X[item], centroids[i])                \n",
    "                '''\n",
    "                Шаг 2.3 - Уточняеням положения центров кластеров\n",
    "                Изменение координат выбранного кластера\n",
    "                Шаг 3 - Сохраняем положения центров кластеров\n",
    "                '''\n",
    "                centroids_sz[argmin_id] += 1\n",
    "                for i in range(len(centroids[argmin_id])):\n",
    "                    centroids[argmin_id][i] = float(centroids[argmin_id][i] + X[item][i]) / float(centroids_sz[argmin_id])\n",
    "        \n",
    "        self.centers = centroids\n",
    "        '''\n",
    "        Шаг 4 - Возвращяем предсказание\n",
    "        '''        \n",
    "        return self.predict(X)"
   ]
  },
  {
   "cell_type": "code",
   "execution_count": 106,
   "metadata": {
    "scrolled": false
   },
   "outputs": [],
   "source": [
    "''' Проверяем работу алгоритма для наборов данных'''\n",
    "data = []\n",
    "for str in open('dataset2.csv'):\n",
    "    str_x, str_y = str.strip().split('\\t')\n",
    "    data.append([float(str_x), float(str_y)])\n",
    "num_clusters = 10\n",
    "kmeans = KMeans(n_clusters = num_clusters, metric='euclidean', max_iter=300).fit(data)\n",
    "ans = kmeans\n",
    "#ans = kmeans.predict(data) predict() уже выполняется в kmeans\n"
   ]
  },
  {
   "cell_type": "code",
   "execution_count": 107,
   "metadata": {},
   "outputs": [],
   "source": [
    "x = []\n",
    "y = []\n",
    "for i in range(num_clusters):\n",
    "    x.append([])\n",
    "    y.append([])\n",
    "for i in range(len(ans)):\n",
    "    x[ans[i]].append(data[i][0])\n",
    "    y[ans[i]].append(data[i][1])\n"
   ]
  },
  {
   "cell_type": "code",
   "execution_count": 112,
   "metadata": {},
   "outputs": [
    {
     "data": {
      "image/png": "[encoded data removed]",
      "text/plain": [
       "<matplotlib.figure.Figure at 0x4150c316a0>"
      ]
     },
     "metadata": {},
     "output_type": "display_data"
    }
   ],
   "source": [
    "for i in range(num_clusters):\n",
    "    plt.plot(x[i], y[i], '.')"
   ]
  },
  {
   "cell_type": "code",
   "execution_count": null,
   "metadata": {
    "collapsed": true
   },
   "outputs": [],
   "source": []
  },
  {
   "cell_type": "markdown",
   "metadata": {
    "collapsed": true
   },
   "source": [
    "### Проверить работу реализованного алгоритма с различным числом кластеров:\n",
    "* Для тестовых наборов данных (dataset1, dataset2, dataset3)\n",
    "* Для задачи кластеризации цветов на изображении (пример в k-means_photo_clusterization)"
   ]
  },
  {
   "cell_type": "markdown",
   "metadata": {},
   "source": [
    "### За выполнение ДЗ: \n",
    "* 6 баллов за реализацию алгоритма\n",
    "* +2 балла за возможность выбора метрики\n",
    "    - Евклидово расстояние\n",
    "    - Расстояние Чебышева\n",
    "    - Манхэттенское расстояние"
   ]
  },
  {
   "cell_type": "code",
   "execution_count": null,
   "metadata": {
    "collapsed": true
   },
   "outputs": [],
   "source": []
  }
 ],
 "metadata": {
  "kernelspec": {
   "display_name": "Python 3",
   "language": "python",
   "name": "python3"
  },
  "language_info": {
   "codemirror_mode": {
    "name": "ipython",
    "version": 3
   },
   "file_extension": ".py",
   "mimetype": "text/x-python",
   "name": "python",
   "nbconvert_exporter": "python",
   "pygments_lexer": "ipython3",
   "version": "3.6.1"
  },
  "toc": {
   "colors": {
    "hover_highlight": "#DAA520",
    "navigate_num": "#000000",
    "navigate_text": "#333333",
    "running_highlight": "#FF0000",
    "selected_highlight": "#FFD700",
    "sidebar_border": "#EEEEEE",
    "wrapper_background": "#FFFFFF"
   },
   "moveMenuLeft": true,
   "nav_menu": {
    "height": "30px",
    "width": "251px"
   },
   "navigate_menu": true,
   "number_sections": true,
   "sideBar": true,
   "threshold": 4,
   "toc_cell": true,
   "toc_section_display": "block",
   "toc_window_display": false,
   "widenNotebook": false
  }
 },
 "nbformat": 4,
 "nbformat_minor": 2
}
